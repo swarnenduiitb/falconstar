{
 "cells": [
  {
   "cell_type": "code",
   "execution_count": 2,
   "metadata": {
    "collapsed": true
   },
   "outputs": [],
   "source": [
    "import numpy as np\n",
    "import pandas as pd\n",
    "import talib as ta\n"
   ]
  },
  {
   "cell_type": "code",
   "execution_count": null,
   "metadata": {
    "collapsed": true
   },
   "outputs": [],
   "source": [
    "def select_columns(data_frame, column_names):\n",
    "    new_frame = data_frame.loc[:, column_names]\n",
    "    return new_frame"
   ]
  },
  {
   "cell_type": "code",
   "execution_count": null,
   "metadata": {
    "collapsed": true
   },
   "outputs": [],
   "source": [
    "def ma_crossover_weekly(data):\n",
    "    data['MA_2weeks'] = data['Close'].rolling(window=2).mean()\n",
    "    data['MA_4weeks'] = data['Close'].rolling(window=4).mean()\n",
    "    data['MA_8weeks'] = data['Close'].rolling(window=8).mean()\n",
    "    data['MA_10weeks'] = data['Close'].rolling(window=10).mean()\n",
    "    data['Close_after1week'] = data['Close'].shift(-1)\n",
    "    data['Close_after1month'] = data['Close'].shift(-4)\n",
    "    data['Close_after3months'] = data['Close'].shift(-13)\n",
    "    data['Close_after6months'] = data['Close'].shift(-26)\n",
    "    data['Close_after12months'] = data['Close'].shift(-52)\n",
    "    data['Close_after24months'] = data['Close'].shift(-104)\n",
    "    data['Returns_after1week'] = (data['Close_after1week']/data['Close'])-1\n",
    "    data['Returns_after1month'] = (data['Close_after1month']/data['Close'])-1\n",
    "    data['Returns_after3months'] = (data['Close_after3months']/data['Close'])-1\n",
    "    data['Returns_after6months'] = (data['Close_after6months']/data['Close'])-1\n",
    "    data['Returns_after12months'] = (data['Close_after12months']/data['Close'])-1\n",
    "    data['Returns_after24months'] = (data['Close_after24months']/data['Close'])-1\n",
    "    df1 = data[data['Close']>data['MA_2weeks']]\n",
    "    df2 = data[data['Close']>data['MA_8weeks']]\n",
    "    df3 = data[data['MA_4weeks']>data['MA_8weeks']]\n",
    "    df4 = data[data['MA_2weeks']>data['MA_10weeks']]\n",
    "    df5 = data[data['MA_4weeks']>data['MA_10weeks']]\n",
    "    df1['1week'] = np.where(df1['Close_after1week']>df1['Close'],'Up','Down')\n",
    "    df1['1week_counts'] = df1['1week'].map(df1['1week'].value_counts(normalize=True))\n",
    "    df1['1months'] = np.where(df1['Close_after1month']>df1['Close'],'Up','Down')\n",
    "    df1['1month_counts'] = df1['1months'].map(df1['1months'].value_counts(normalize=True))\n",
    "    df1['3months'] = np.where(df1['Close_after3months']>df1['Close'],'Up','Down')\n",
    "    df1['3months_counts'] = df1['3months'].map(df1['3months'].value_counts(normalize=True))\n",
    "    df1['6months'] = np.where(df1['Close_after6months']>df1['Close'],'Up','Down')\n",
    "    df1['6months_counts'] = df1['6months'].map(df['6months'].value_counts(normalize=True))\n",
    "    df1['1year'] = np.where(df1['Close_after12months']>df1['Close'],'Up','Down')\n",
    "    df1['1year_counts'] = df1['1year'].map(df1['1year'].value_counts(normalize=True))\n",
    "    df1['2year'] = np.where(df1['Close_after24months']>df1['Close'],'Up','Down')\n",
    "    df1['2year_counts'] = df1['2year'].map(df1['2year'].value_counts(normalize=True))\n",
    "    df2['1week'] = np.where(df2['Close_after1week']>df2['Close'],'Up','Down')\n",
    "    df2['1week_counts'] = df2['1week'].map(df2['1week'].value_counts(normalize=True))\n",
    "    df2['1months'] = np.where(df2['Close_after1month']>df2['Close'],'Up','Down')\n",
    "    df2['1month_counts'] = df2['1months'].map(df2['1months'].value_counts(normalize=True))\n",
    "    df2['3months'] = np.where(df2['Close_after3months']>df2['Close'],'Up','Down')\n",
    "    df2['3months_counts'] = df2['3months'].map(df2['3months'].value_counts(normalize=True))\n",
    "    df2['6months'] = np.where(df2['Close_after6months']>df2['Close'],'Up','Down')\n",
    "    df2['6months_counts'] = df2['6months'].map(df2['6months'].value_counts(normalize=True))\n",
    "    df2['1year'] = np.where(df2['Close_after12months']>df2['Close'],'Up','Down')\n",
    "    df2['1year_counts'] = df2['1year'].map(df2['1year'].value_counts(normalize=True))\n",
    "    df2['2year'] = np.where(df2['Close_after24months']>df2['Close'],'Up','Down')\n",
    "    df2['2year_counts'] = df2['2year'].map(df2['2year'].value_counts(normalize=True))\n",
    "    df3['1week'] = np.where(df3['Close_after1week']>df3['Close'],'Up','Down')\n",
    "    df3['1week_counts'] = df3['1week'].map(df3['1week'].value_counts(normalize=True))\n",
    "    df3['1months'] = np.where(df3['Close_after1month']>df3['Close'],'Up','Down')\n",
    "    df3['1month_counts'] = df3['1months'].map(df3['1months'].value_counts(normalize=True))\n",
    "    df3['3months'] = np.where(df3['Close_after3months']>df3['Close'],'Up','Down')\n",
    "    df3['3months_counts'] = df3['3months'].map(df3['3months'].value_counts(normalize=True))\n",
    "    df3['6months'] = np.where(df3['Close_after6months']>df3['Close'],'Up','Down')\n",
    "    df3['6months_counts'] = df3['6months'].map(df3['6months'].value_counts(normalize=True))\n",
    "    df3['1year'] = np.where(df3['Close_after12months']>df3['Close'],'Up','Down')\n",
    "    df3['1year_counts'] = df3['1year'].map(df3['1year'].value_counts(normalize=True))\n",
    "    df3['2year'] = np.where(df3['Close_after24months']>df3['Close'],'Up','Down')\n",
    "    df3['2year_counts'] = df3['2year'].map(df3['2year'].value_counts(normalize=True))\n",
    "    df4['1week'] = np.where(df4['Close_after1week']>df4['Close'],'Up','Down')\n",
    "    df4['1week_counts'] = df4['1week'].map(df4['1week'].value_counts(normalize=True))\n",
    "    df4['1months'] = np.where(df4['Close_after1month']>df4['Close'],'Up','Down')\n",
    "    df4['1month_counts'] = df4['1months'].map(df4['1months'].value_counts(normalize=True))\n",
    "    df4['3months'] = np.where(df4['Close_after3months']>df4['Close'],'Up','Down')\n",
    "    df4['3months_counts'] = df4['3months'].map(df4['3months'].value_counts(normalize=True))\n",
    "    df4['6months'] = np.where(df4['Close_after6months']>df4['Close'],'Up','Down')\n",
    "    df4['6months_counts'] = df4['6months'].map(df4['6months'].value_counts(normalize=True))\n",
    "    df4['1year'] = np.where(df4['Close_after12months']>df4['Close'],'Up','Down')\n",
    "    df4['1year_counts'] = df4['1year'].map(df4['1year'].value_counts(normalize=True))\n",
    "    df4['2year'] = np.where(df4['Close_after24months']>df4['Close'],'Up','Down')\n",
    "    df4['2year_counts'] = df4['2year'].map(df4['2year'].value_counts(normalize=True))\n",
    "    df5['1week'] = np.where(df5['Close_after1week']>df5['Close'],'Up','Down')\n",
    "    df5['1week_counts'] = df5['1week'].map(df5['1week'].value_counts(normalize=True))\n",
    "    df5['1months'] = np.where(df5['Close_after1month']>df5['Close'],'Up','Down')\n",
    "    df5['1month_counts'] = df5['1months'].map(df5['1months'].value_counts(normalize=True))\n",
    "    df5['3months'] = np.where(df5['Close_after3months']>df5['Close'],'Up','Down')\n",
    "    df5['3months_counts'] = df5['3months'].map(df5['3months'].value_counts(normalize=True))\n",
    "    df5['6months'] = np.where(df5['Close_after6months']>df5['Close'],'Up','Down')\n",
    "    df5['6months_counts'] = df5['6months'].map(df5['6months'].value_counts(normalize=True))\n",
    "    df5['1year'] = np.where(df5['Close_after12months']>df5['Close'],'Up','Down')\n",
    "    df5['1year_counts'] = df5['1year'].map(df5['1year'].value_counts(normalize=True))\n",
    "    df5['2year'] = np.where(df5['Close_after24months']>df5['Close'],'Up','Down')\n",
    "    df5['2year_counts'] = df5['2year'].map(df5['2year'].value_counts(normalize=True))\n",
    "    cols_to_use = ['1week_counts','1month_counts','3months_counts','6months_counts','1year_counts','2year_counts']\n",
    "    cols_to_use2 = ['Returns_after1week','Returns_after1month','Returns_after3months','Returns_after6months','Returns_after12months','']\n",
    "    df6 = select_columns(df1,cols_to_use)\n",
    "    df7 = select_columns(df2,cols_to_use)\n",
    "    df8 = select_columns(df3,cols_to_use)\n",
    "    df9 = select_columns(df4,cols_to_use)\n",
    "    df10 = select_columns(df5,cols_to_use)\n",
    "    df11 = select_columns(df1,cols_to_use2)\n",
    "    df12 = select_columns(df2,cols_to_use2)\n",
    "    df13 = select_columns(df3,cols_to_use2)\n",
    "    df14 = select_columns(df4,cols_to_use2)\n",
    "    df15 = select_columns(df5,cols_to_use2)\n",
    "    \n",
    "    "
   ]
  },
  {
   "cell_type": "code",
   "execution_count": 11,
   "metadata": {},
   "outputs": [],
   "source": [
    "data = pd.read_excel('weeklydata.xlsx',index_col = 0,parse_dates = True)"
   ]
  },
  {
   "cell_type": "code",
   "execution_count": 16,
   "metadata": {},
   "outputs": [
    {
     "name": "stdout",
     "output_type": "stream",
     "text": [
      "<class 'pandas.core.frame.DataFrame'>\n",
      "DatetimeIndex: 1317 entries, 2020-02-03 to 1994-11-11\n",
      "Columns: 151 entries, Open to Returns_after24months\n",
      "dtypes: float64(132), int64(2), object(17)\n",
      "memory usage: 1.5+ MB\n"
     ]
    }
   ],
   "source": [
    "data.info()"
   ]
  },
  {
   "cell_type": "code",
   "execution_count": 13,
   "metadata": {},
   "outputs": [
    {
     "name": "stderr",
     "output_type": "stream",
     "text": [
      "C:\\ProgramData\\Anaconda3\\lib\\site-packages\\ipykernel_launcher.py:22: SettingWithCopyWarning: \n",
      "A value is trying to be set on a copy of a slice from a DataFrame.\n",
      "Try using .loc[row_indexer,col_indexer] = value instead\n",
      "\n",
      "See the caveats in the documentation: https://pandas.pydata.org/pandas-docs/stable/user_guide/indexing.html#returning-a-view-versus-a-copy\n",
      "C:\\ProgramData\\Anaconda3\\lib\\site-packages\\ipykernel_launcher.py:23: SettingWithCopyWarning: \n",
      "A value is trying to be set on a copy of a slice from a DataFrame.\n",
      "Try using .loc[row_indexer,col_indexer] = value instead\n",
      "\n",
      "See the caveats in the documentation: https://pandas.pydata.org/pandas-docs/stable/user_guide/indexing.html#returning-a-view-versus-a-copy\n",
      "C:\\ProgramData\\Anaconda3\\lib\\site-packages\\ipykernel_launcher.py:24: SettingWithCopyWarning: \n",
      "A value is trying to be set on a copy of a slice from a DataFrame.\n",
      "Try using .loc[row_indexer,col_indexer] = value instead\n",
      "\n",
      "See the caveats in the documentation: https://pandas.pydata.org/pandas-docs/stable/user_guide/indexing.html#returning-a-view-versus-a-copy\n"
     ]
    }
   ],
   "source": [
    "data['MA_2weeks'] = data['Close'].rolling(window=2).mean()\n",
    "data['MA_4weeks'] = data['Close'].rolling(window=4).mean()\n",
    "data['MA_8weeks'] = data['Close'].rolling(window=8).mean()\n",
    "data['MA_10weeks'] = data['Close'].rolling(window=10).mean()\n",
    "data['Close_after1week'] = data['Close'].shift(-1)\n",
    "data['Close_after1month'] = data['Close'].shift(-4)\n",
    "data['Close_after3months'] = data['Close'].shift(-13)\n",
    "data['Close_after6months'] = data['Close'].shift(-26)\n",
    "data['Close_after12months'] = data['Close'].shift(-52)\n",
    "data['Close_after24months'] = data['Close'].shift(-104)\n",
    "data['Returns_after1week'] = (data['Close_after1week']/data['Close'])-1\n",
    "data['Returns_after1month'] = (data['Close_after1month']/data['Close'])-1\n",
    "data['Returns_after3months'] = (data['Close_after3months']/data['Close'])-1\n",
    "data['Returns_after6months'] = (data['Close_after6months']/data['Close'])-1\n",
    "data['Returns_after12months'] = (data['Close_after12months']/data['Close'])-1\n",
    "data['Returns_after24months'] = (data['Close_after24months']/data['Close'])-1\n",
    "df1 = data[data['Close']>data['MA_2weeks']]\n",
    "df2 = data[data['Close']>data['MA_8weeks']]\n",
    "df3 = data[data['MA_4weeks']>data['MA_8weeks']]\n",
    "df4 = data[data['MA_2weeks']>data['MA_10weeks']]\n",
    "df5 = data[data['MA_4weeks']>data['MA_10weeks']]\n",
    "df1['1week'] = np.where(df1['Close_after1week']>df1['Close'],'Up','Down')\n",
    "df1['1week_counts'] = df1['1week'].map(df1['1week'].value_counts(normalize=True))\n",
    "\n",
    "\n"
   ]
  },
  {
   "cell_type": "code",
   "execution_count": 20,
   "metadata": {},
   "outputs": [
    {
     "data": {
      "text/plain": [
       "Date\n",
       "1994-12-23    0.508475\n",
       "1994-12-09    0.491525\n",
       "1994-12-02    0.491525\n",
       "1994-11-25    0.491525\n",
       "1994-11-17    0.508475\n",
       "Name: 1week_counts, dtype: float64"
      ]
     },
     "execution_count": 20,
     "metadata": {},
     "output_type": "execute_result"
    }
   ],
   "source": [
    "df1['1week_counts'].tail()"
   ]
  },
  {
   "cell_type": "code",
   "execution_count": null,
   "metadata": {
    "collapsed": true
   },
   "outputs": [],
   "source": [
    "\n",
    "columns\n",
    "\n",
    "\n",
    "\n",
    "\n",
    "\n",
    "In [ ]:\n",
    "\n",
    "\n",
    "\n",
    "\n",
    "\n",
    "\n",
    "\n",
    "\n",
    "\n",
    "\n",
    "\n",
    "\n",
    "\n",
    "\n",
    "\n",
    "\n",
    "\n",
    "\n",
    "\n",
    "\n",
    "\n",
    "\n",
    "\n",
    "\n",
    "\n",
    "​\n"
   ]
  }
 ],
 "metadata": {
  "kernelspec": {
   "display_name": "Python 3",
   "language": "python",
   "name": "python3"
  },
  "language_info": {
   "codemirror_mode": {
    "name": "ipython",
    "version": 3
   },
   "file_extension": ".py",
   "mimetype": "text/x-python",
   "name": "python",
   "nbconvert_exporter": "python",
   "pygments_lexer": "ipython3",
   "version": "3.6.3"
  }
 },
 "nbformat": 4,
 "nbformat_minor": 2
}
